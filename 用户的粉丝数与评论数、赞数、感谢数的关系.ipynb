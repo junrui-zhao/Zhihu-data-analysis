{
 "cells": [
  {
   "cell_type": "markdown",
   "metadata": {},
   "source": [
    "## 1.引入包"
   ]
  },
  {
   "cell_type": "code",
   "execution_count": 46,
   "metadata": {
    "collapsed": true
   },
   "outputs": [],
   "source": [
    "#-*- coding=utf-8 -*-\n",
    "import pandas as pd\n",
    "import pylab\n",
    "import collections\n",
    "import numpy as np\n",
    "import networkx as nx\n",
    "import matplotlib.pyplot as plt\n",
    "from collections import defaultdict\n",
    "from operator import itemgetter, attrgetter  \n",
    "from sklearn import linear_model"
   ]
  },
  {
   "cell_type": "markdown",
   "metadata": {},
   "source": [
    "## 2.双对数坐标画图"
   ]
  },
  {
   "cell_type": "code",
   "execution_count": 16,
   "metadata": {
    "collapsed": true
   },
   "outputs": [],
   "source": [
    "def drawloglog(data,title):\n",
    "    feature_count_pairs = collections.Counter(data).most_common()\n",
    "    feature_value = zip(*feature_count_pairs)[0]\n",
    "    count = zip(*feature_count_pairs)[1]\n",
    "    plt.title(title)\n",
    "    plt.loglog(feature_value, count,'ro',color='blue')\n",
    "    plt.show()"
   ]
  },
  {
   "cell_type": "markdown",
   "metadata": {},
   "source": [
    "## 3.双对数坐标线性回归拟合画图"
   ]
  },
  {
   "cell_type": "code",
   "execution_count": 47,
   "metadata": {
    "collapsed": true
   },
   "outputs": [],
   "source": [
    "def drawpic(X,pY):\n",
    "    _logX = []\n",
    "    _logpY = []\n",
    "\n",
    "    for x, y in zip(X,pY): #这里可以调整\n",
    "        _logX.append([float(np.log10(x))])\n",
    "        _logpY.append([float(np.log10(y))])\n",
    "    # 模型拟合\n",
    "    regr = linear_model.LinearRegression()\n",
    "    regr.fit(_logX[20:len(X)-500], _logpY[20:len(pY)-500])\n",
    "    # 模型结果与得分\n",
    "    print('Coefficients:', regr.coef_,)\n",
    "    print(\"Intercept:\",regr.intercept_)\n",
    "    # The mean square error\n",
    "    print(\"Residual sum of squares: %.8f\"\n",
    "      % np.mean((regr.predict(_logX) - _logpY) ** 2))  # 残差平方和\n",
    "\n",
    "    # 可视化\n",
    "    #plt.title(\"following count loglog probability distribution\")\n",
    "    plt.xlabel(\"the number of answers\")\n",
    "    plt.ylabel(\"p(k)\")\n",
    "    \n",
    "    plt.plot(X,pY,\".\",  color='blue')\n",
    "    plt.plot(X[20:len(X)-500], X[20:len(X)-500]**regr.coef_[0][0]*np.exp(regr.intercept_[0]), \"r-\",linewidth=2)\n",
    "    #print plt.yticks()\n",
    "    #plt.yticks(plt.yticks()[0],['$10^%f$'%w for w in range(3)]) \n",
    "    #plt.yticks()[0]\n",
    "    plt.xscale('log'); plt.yscale('log')\n",
    "    plt.text(5, 0.001, \"Slope=\"+ str(round(regr.coef_[0][0],2)) ,fontsize=10);\n",
    "    # plt.xticks(())\n",
    "    # plt.yticks(())\n",
    "    plt.show()"
   ]
  },
  {
   "cell_type": "markdown",
   "metadata": {},
   "source": [
    "## 4.双对数坐标带指数截断的幂律分布拟合画图"
   ]
  },
  {
   "cell_type": "code",
   "execution_count": null,
   "metadata": {
    "collapsed": true
   },
   "outputs": [],
   "source": [
    "def powerLawExponentialCutOffPlot(datax,datay, xlab, ylab):\n",
    "    '''\n",
    "    Plot fitted powerLaw distribution with Exponential CutOff\n",
    "    '''\n",
    "    t = datax\n",
    "    #r = np.array(range(len(data))) +1\n",
    "    r = datay\n",
    "    y = np.log(r[500:len(r)])\n",
    "    x1 = np.log(t[500:len(r)])\n",
    "    x2 = t[500:len(r)]\n",
    "    x = np.column_stack((x1,x2))\n",
    "    x = sm.add_constant(x, prepend=True)\n",
    "    res = sm.OLS(y,x).fit()\n",
    "    L,alpha,lambde = res.params\n",
    "    r2 = res.rsquared\n",
    "    plt.plot(t,r,\".\",color=\"blue\",alpha=1)\n",
    "    plt.plot(t[500:len(r)-5], (np.exp(L) * t ** alpha * np.exp(lambde * t))[500:len(r)-5],\"r-\",linewidth=2)\n",
    "    plt.xscale('log'); plt.yscale('log')\n",
    "    plt.ylim(ymax = 0.05)\n",
    "    plt.xlabel(xlab, fontsize = 10)\n",
    "    plt.ylabel(ylab, fontsize = 10)\n",
    "    plt.text(3, 0.001, \"alpha=\"+ str(round(alpha,3))+\"\\nlambda=\"+str(round(lambde,3)) ,fontsize=10);\n",
    "    plt.show()\n",
    "    print L,alpha,lambde, r2"
   ]
  },
  {
   "cell_type": "markdown",
   "metadata": {},
   "source": [
    "## 5.主程序"
   ]
  },
  {
   "cell_type": "markdown",
   "metadata": {},
   "source": [
    "## 5.1双对数坐标下普通用户答案数概率分布（线性回归拟合）"
   ]
  },
  {
   "cell_type": "code",
   "execution_count": 51,
   "metadata": {},
   "outputs": [
    {
     "name": "stdout",
     "output_type": "stream",
     "text": [
      "874\n",
      "('Coefficients:', array([[-1.52251191]]))\n",
      "('Intercept:', array([-0.03001452]))\n",
      "Residual sum of squares: 0.11758212\n"
     ]
    },
    {
     "data": {
      "image/png": "[encoded data removed]",
      "text/plain": [
       "<matplotlib.figure.Figure at 0x10e500a50>"
      ]
     },
     "metadata": {},
     "output_type": "display_data"
    }
   ],
   "source": [
    "Location = r'../数据/论文用/普通用户detail表.csv'\n",
    "#df = pd.read_csv(Location,dtype={'user_detail.userid':np.str,'user_detail.following_count':np.int32})\n",
    "df = pd.read_csv(Location)\n",
    "#drawloglog(df['answer_count'],'users_answer_count_distribution')\n",
    "feature_count_pairs = collections.Counter(df['answer_count']).most_common()\n",
    "X = zip(*feature_count_pairs)[0]\n",
    "count = zip(*feature_count_pairs)[1]\n",
    "pY = [float(float(n)/sum(count)) for n in count]\n",
    "print len(X)\n",
    "\n",
    "np.array(X)[0] = 0.00001\n",
    "drawpic(np.array(X)[1:],np.array(pY)[1:])"
   ]
  },
  {
   "cell_type": "markdown",
   "metadata": {},
   "source": [
    "## 5.2双对数坐标下普通用户答案数概率分布（带指数截断的幂律分布拟合）"
   ]
  },
  {
   "cell_type": "code",
   "execution_count": 52,
   "metadata": {},
   "outputs": [
    {
     "name": "stdout",
     "output_type": "stream",
     "text": [
      "874\n"
     ]
    },
    {
     "name": "stderr",
     "output_type": "stream",
     "text": [
      "/usr/local/lib/python2.7/site-packages/statsmodels/compat/pandas.py:56: FutureWarning: The pandas.core.datetools module is deprecated and will be removed in a future version. Please use the pandas.tseries module instead.\n",
      "  from pandas.core import datetools\n"
     ]
    },
    {
     "data": {
      "image/png": "[encoded data removed]",
      "text/plain": [
       "<matplotlib.figure.Figure at 0x10b20c510>"
      ]
     },
     "metadata": {},
     "output_type": "display_data"
    },
    {
     "name": "stdout",
     "output_type": "stream",
     "text": [
      "-1.68166758552 -1.04977121525 -0.00480838644568 0.936142445412\n"
     ]
    }
   ],
   "source": [
    "pairs = sorted(feature_count_pairs,reverse=True)\n",
    "X = np.array(zip(*pairs)[0])\n",
    "Y = np.array(zip(*pairs)[1])\n",
    "pY = [y/float(sum(Y)) for y in zip(*pairs)[1]]\n",
    "print len(pY)\n",
    "import statsmodels.api as sm\n",
    "from pylab import *\n",
    "\n",
    "powerLawExponentialCutOffPlot(np.array(X[:-1]),np.array(pY[:-1]),\"the number of answers\",\"p(k)\")"
   ]
  },
  {
   "cell_type": "code",
   "execution_count": null,
   "metadata": {
    "collapsed": true
   },
   "outputs": [],
   "source": []
  }
 ],
 "metadata": {
  "kernelspec": {
   "display_name": "Python 2",
   "language": "python",
   "name": "python2"
  },
  "language_info": {
   "codemirror_mode": {
    "name": "ipython",
    "version": 2
   },
   "file_extension": ".py",
   "mimetype": "text/x-python",
   "name": "python",
   "nbconvert_exporter": "python",
   "pygments_lexer": "ipython2",
   "version": "2.7.12"
  }
 },
 "nbformat": 4,
 "nbformat_minor": 2
}
