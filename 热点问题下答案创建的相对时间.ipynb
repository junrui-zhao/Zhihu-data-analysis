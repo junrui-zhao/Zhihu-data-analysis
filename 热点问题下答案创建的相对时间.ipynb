{
 "cells": [
  {
   "cell_type": "markdown",
   "metadata": {},
   "source": [
    "### 1. 导入包"
   ]
  },
  {
   "cell_type": "code",
   "execution_count": 1,
   "metadata": {
    "collapsed": true
   },
   "outputs": [],
   "source": [
    "#-*- coding=utf-8 -*-\n",
    "import json\n",
    "import csv\n",
    "import datetime\n",
    "import collections\n",
    "import matplotlib.pyplot as plt\n",
    "import time "
   ]
  },
  {
   "cell_type": "markdown",
   "metadata": {},
   "source": [
    "### 2. 读文件"
   ]
  },
  {
   "cell_type": "code",
   "execution_count": 24,
   "metadata": {},
   "outputs": [],
   "source": [
    "with open('../二/allanswer.csv', 'r') as f:\n",
    "    alldata = [json.loads(line) for line in f.readlines()]"
   ]
  },
  {
   "cell_type": "markdown",
   "metadata": {},
   "source": [
    "### 3. 获取问题id"
   ]
  },
  {
   "cell_type": "code",
   "execution_count": null,
   "metadata": {
    "collapsed": true
   },
   "outputs": [],
   "source": [
    "question_id = []\n",
    "for i in alldata:\n",
    "    if i['rowkey']['question_id'] not in question_id:\n",
    "        question_id.append(i['rowkey']['question_id'])"
   ]
  },
  {
   "cell_type": "markdown",
   "metadata": {},
   "source": [
    "### 4. 计算答案创建的相对时间（天）"
   ]
  },
  {
   "cell_type": "code",
   "execution_count": 68,
   "metadata": {},
   "outputs": [],
   "source": [
    "def get_span(id,t):   \n",
    "    t_time = []\n",
    "    d_time = []\n",
    "    for i in alldata:\n",
    "        if i['rowkey']['question_id'] == int(id):\n",
    "            t_time.append(datetime.datetime.fromtimestamp(i['created_time']))\n",
    "    t_time.sort()\n",
    "    day1 = datetime.datetime.fromtimestamp(t)\n",
    "    print day1\n",
    "    for i in t_time:\n",
    "        d_time.append((i-day1).days)\n",
    "    return d_time"
   ]
  },
  {
   "cell_type": "code",
   "execution_count": 69,
   "metadata": {},
   "outputs": [
    {
     "name": "stdout",
     "output_type": "stream",
     "text": [
      "2016-07-03 18:05:24\n",
      "2016-02-07 23:16:20\n",
      "2016-02-07 23:24:39\n",
      "2016-02-08 10:18:12\n",
      "2016-03-31 01:18:45\n",
      "2016-04-14 09:05:39\n",
      "2016-08-14 00:30:33\n",
      "2016-09-13 10:28:53\n",
      "2016-11-09 14:46:53\n",
      "2016-11-22 10:04:21\n",
      "2017-03-31 09:56:44\n",
      "2017-06-08 10:23:34\n",
      "2017-06-12 21:07:41\n"
     ]
    }
   ],
   "source": [
    "q48109458 = get_span('48109458',1467540324)\n",
    "q40204655 = get_span('40204655',1454858180)\n",
    "q40204835 = get_span('40204835',1454858679)\n",
    "q40211178 = get_span('40211178',1454897892)\n",
    "q41969285 = get_span('41969285',1459358325)\n",
    "q43092983 = get_span('43092983',1460595939)\n",
    "q49581600 = get_span('49581600',1471105833)\n",
    "q50600301 = get_span('50600301',1473733733)\n",
    "q52444153 = get_span('52444153',1478674013)\n",
    "q52872637 = get_span('52872637',1479780261)\n",
    "q57852890 = get_span('57852890',1490925404)\n",
    "q60823173 = get_span('60823173',1496888614)\n",
    "q61015531 = get_span('61015531',1497272861)"
   ]
  },
  {
   "cell_type": "markdown",
   "metadata": {},
   "source": [
    "### 5. 合并2016年的问题列表"
   ]
  },
  {
   "cell_type": "code",
   "execution_count": 70,
   "metadata": {
    "collapsed": true
   },
   "outputs": [],
   "source": [
    "allday = []\n",
    "allday +=q48109458\n",
    "allday +=q40204655\n",
    "allday +=q40204835 \n",
    "allday +=q40211178 \n",
    "allday +=q41969285 \n",
    "allday +=q43092983 \n",
    "allday +=q49581600 \n",
    "allday +=q50600301 \n",
    "allday +=q52444153\n",
    "allday +=q52872637 \n"
   ]
  },
  {
   "cell_type": "markdown",
   "metadata": {},
   "source": [
    "### 6. 统计日期的出现次数"
   ]
  },
  {
   "cell_type": "code",
   "execution_count": 74,
   "metadata": {},
   "outputs": [],
   "source": [
    "allcount += collections.Counter(allday)"
   ]
  }
 ],
 "metadata": {
  "kernelspec": {
   "display_name": "Python 2",
   "language": "python",
   "name": "python2"
  },
  "language_info": {
   "codemirror_mode": {
    "name": "ipython",
    "version": 2
   },
   "file_extension": ".py",
   "mimetype": "text/x-python",
   "name": "python",
   "nbconvert_exporter": "python",
   "pygments_lexer": "ipython2",
   "version": "2.7.12"
  }
 },
 "nbformat": 4,
 "nbformat_minor": 2
}
