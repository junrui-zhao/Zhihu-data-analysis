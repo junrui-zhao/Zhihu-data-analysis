{
 "cells": [
  {
   "cell_type": "markdown",
   "metadata": {},
   "source": [
    "## 1.引入包"
   ]
  },
  {
   "cell_type": "code",
   "execution_count": 1,
   "metadata": {
    "collapsed": true
   },
   "outputs": [],
   "source": [
    "#-*- coding=utf-8 -*-\n",
    "import pandas as pd\n",
    "import pylab\n",
    "import collections\n",
    "import numpy as np\n",
    "from collections import defaultdict\n",
    "import matplotlib.pyplot as plt\n",
    "from scipy.optimize import leastsq\n",
    "from sklearn import datasets, linear_model\n",
    "import datetime"
   ]
  },
  {
   "cell_type": "markdown",
   "metadata": {},
   "source": [
    "## 2. 画直方图"
   ]
  },
  {
   "cell_type": "code",
   "execution_count": 6,
   "metadata": {
    "collapsed": true
   },
   "outputs": [],
   "source": [
    "# 参数依次为list,抬头,X轴标签,Y轴标签,XY轴的范围\n",
    "def draw_hist(myList,Title,Xlabel,Ylabel,Xmin,Xmax,Ymin,Ymax):\n",
    "    plt.hist(myList,100)\n",
    "    plt.xlabel(Xlabel)\n",
    "    plt.xlim(Xmin,Xmax)\n",
    "    plt.ylabel(Ylabel)\n",
    "    plt.ylim(Ymin,Ymax)\n",
    "    plt.title(Title)\n",
    "    plt.show()\n"
   ]
  },
  {
   "cell_type": "markdown",
   "metadata": {},
   "source": [
    "## 3.画双对数坐标"
   ]
  },
  {
   "cell_type": "code",
   "execution_count": 25,
   "metadata": {
    "collapsed": true
   },
   "outputs": [],
   "source": [
    "def drawloglog(data,title):\n",
    "    feature_count_pairs = collections.Counter(data).most_common()\n",
    "    feature_value = zip(*feature_count_pairs)[0]\n",
    "    count = zip(*feature_count_pairs)[1]\n",
    "    plt.title(title)\n",
    "    plt.loglog(feature_value, count,'ro',color='blue')\n",
    "    plt.show()"
   ]
  },
  {
   "cell_type": "markdown",
   "metadata": {},
   "source": [
    "## 4.主程序"
   ]
  },
  {
   "cell_type": "markdown",
   "metadata": {},
   "source": [
    "### 4.1 群体用户半年动态序列（小时）"
   ]
  },
  {
   "cell_type": "code",
   "execution_count": 51,
   "metadata": {
    "collapsed": true
   },
   "outputs": [],
   "source": [
    "Location = r'../数据/论文用/群体用户半年动态序列.csv'\n",
    "#df = pd.read_csv(Location,dtype={'user_detail.userid':np.str,'user_detail.following_count':np.int32})\n",
    "df = pd.read_csv(Location)\n",
    "import datetime\n",
    "created_time = df['activity.created_time']\n",
    "format_time = []\n",
    "for time in created_time:\n",
    "    dt = datetime.datetime.fromtimestamp(time)\n",
    "    format_time.append(dt)\n",
    "weeks = []\n",
    "hours = []\n",
    "for time in format_time:\n",
    "    week = time.weekday()\n",
    "    hour = time.hour\n",
    "    weeks.append(week+1)\n",
    "    hours.append(hour+1)"
   ]
  },
  {
   "cell_type": "code",
   "execution_count": 54,
   "metadata": {},
   "outputs": [
    {
     "data": {
      "image/png": "[encoded data removed]",
      "text/plain": [
       "<matplotlib.figure.Figure at 0x112e1eb90>"
      ]
     },
     "metadata": {},
     "output_type": "display_data"
    }
   ],
   "source": [
    "draw_hist(hours,'','Hour','number',0,25,0.0,20000)"
   ]
  },
  {
   "cell_type": "markdown",
   "metadata": {},
   "source": [
    "### 4.2 群体用户动态类型统计"
   ]
  },
  {
   "cell_type": "code",
   "execution_count": 35,
   "metadata": {
    "collapsed": true
   },
   "outputs": [],
   "source": [
    "activity_count = df.groupby(['activity.act_type']).count()"
   ]
  },
  {
   "cell_type": "code",
   "execution_count": 46,
   "metadata": {
    "collapsed": true
   },
   "outputs": [],
   "source": [
    "activity_sorted = activity_count.sort_values(['activity.actor'],ascending=0)"
   ]
  },
  {
   "cell_type": "code",
   "execution_count": 47,
   "metadata": {
    "collapsed": true
   },
   "outputs": [],
   "source": [
    "activity_type = ['ANSWER_VOTE_UP',\n",
    "'ANSWER_CREATE','QUESTION_FOLLOW','MEMBER_VOTEUP_ARTICLE',\n",
    "'MEMBER_COLLECT_ANSWER',\n",
    "'MEMBER_CREATE_ARTICLE',\n",
    "]"
   ]
  },
  {
   "cell_type": "code",
   "execution_count": 50,
   "metadata": {
    "scrolled": false
   },
   "outputs": [
    {
     "data": {
      "image/png": "[encoded data removed]",
      "text/plain": [
       "<matplotlib.figure.Figure at 0x114f1cd50>"
      ]
     },
     "metadata": {},
     "output_type": "display_data"
    }
   ],
   "source": [
    "def draw_bar(labels,quants):  \n",
    "    width = 0.4  \n",
    "    ind = np.linspace(0.5,9.5,6)  \n",
    "    # make a square figure  \n",
    "    fig = plt.figure(figsize=(15,8))  \n",
    "    \n",
    "    ax  = fig.add_subplot(111)  \n",
    "    # Bar Plot  \n",
    "    ax.bar(ind-width/2,quants,width,color='blue')  \n",
    "    # Set the ticks on x-axis  \n",
    "    ax.set_xticks(ind)  \n",
    "    ax.set_xticklabels(labels)  \n",
    "    # labels  \n",
    "    ax.set_xlabel('act type')  \n",
    "    ax.set_ylabel('count')  \n",
    "    # title  \n",
    "    #ax.set_title('act_type')  \n",
    "    plt.grid(True)  \n",
    "    plt.show()  \n",
    "\n",
    "draw_bar(activity_type,activity_sorted['activity.actor'].head(6))"
   ]
  },
  {
   "cell_type": "code",
   "execution_count": null,
   "metadata": {
    "collapsed": true
   },
   "outputs": [],
   "source": []
  }
 ],
 "metadata": {
  "kernelspec": {
   "display_name": "Python 2",
   "language": "python",
   "name": "python2"
  },
  "language_info": {
   "codemirror_mode": {
    "name": "ipython",
    "version": 2
   },
   "file_extension": ".py",
   "mimetype": "text/x-python",
   "name": "python",
   "nbconvert_exporter": "python",
   "pygments_lexer": "ipython2",
   "version": "2.7.12"
  }
 },
 "nbformat": 4,
 "nbformat_minor": 2
}
