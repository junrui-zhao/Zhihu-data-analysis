{
 "cells": [
  {
   "cell_type": "markdown",
   "metadata": {},
   "source": [
    "### 1. 引入包、读取文件"
   ]
  },
  {
   "cell_type": "code",
   "execution_count": 28,
   "metadata": {
    "collapsed": true
   },
   "outputs": [],
   "source": [
    "#-*- coding=utf-8 -*-\n",
    "import pandas as pd\n",
    "import pylab\n",
    "import collections\n",
    "import numpy as np\n",
    "import networkx as nx\n",
    "from collections import defaultdict\n",
    "import matplotlib.pyplot as plt\n",
    "from scipy.optimize import leastsq\n",
    "from sklearn import datasets, linear_model\n",
    "Location = r'/Users/zhaojr/Documents/知乎数据分析/二/top1000文本.csv'\n",
    "#df = pd.read_csv(Location,dtype={'user_detail.userid':np.str,'user_detail.following_count':np.int32})\n",
    "df = pd.read_csv(Location)"
   ]
  },
  {
   "cell_type": "markdown",
   "metadata": {},
   "source": [
    "### 2.去除html"
   ]
  },
  {
   "cell_type": "code",
   "execution_count": 6,
   "metadata": {},
   "outputs": [
    {
     "name": "stdout",
     "output_type": "stream",
     "text": [
      "关于当年三聚氰胺奶粉真正被曝出的原因。『三鹿集团在得知婴儿患者时，第一反应是拒绝承认，然后封杀可能的消息，他们之前因此成功过，如果运气好，这次仍会过关；一些医生怀疑这些患上肾结石的可怜婴儿，可能与他们所饮用的奶粉直接相关，但他们不知该向哪些部门做出反映；一位湖南患者的父亲在七月曾独自向国家质检总局投诉，获得了三鹿奶粉的检验报告一“合格”；而卫生部在七月中旬接到了地方“肾结石婴心增多的报告，怀疑致病原因是三鹿奶粉，但卫生部“没有想到事情会那么严重”，它没有上报国务院，也没有通知质检总局工商总局，此刻的北京，笼罩在—片奥运将至的亢奋与紧张中，它不希望坏消息来干扰；一些地方媒体零星报道了婴儿因肾结石死亡的新闻，但是没人想到它们是更大悲剧的一部分，也没有记者深入追踪这一切，中国新闻界既缺乏这样的能力，也知道即使这样做了可能也徒劳无功，这些消息很快淹没在浩如烟海的其他新闻里了。这一切的突然转变，是因为新西兰政府介入了此事。一家新西兰公司拥有三鹿集团百分之四十三的股份，当它发现三鹿奶粉的问题后，早在七月就通知了中国政府，但没收到明确答复。到了九月八日，新西兰通过外交渠道正式表达了关注，“外交无小事”的因素开始发生了作用，而且那气氛紧张的奥运会已过去了。九月十一日，一场暴风骤雨式的行动到来了，官员开始下台，媒体报道蜂拥而至，企业被严查，清算的力度超出了人们的想象——几乎所有重要的牛奶企业都卷入其中。』——许知远《时代的稻草人》一个有着13亿人口国家的奶粉安全，需要一个千里之外的政府来操心。\n"
     ]
    }
   ],
   "source": [
    "import re\n",
    "dr = re.compile(r'<[^>]+>',re.S)"
   ]
  },
  {
   "cell_type": "markdown",
   "metadata": {},
   "source": [
    "### 3. 计算字数和图片数"
   ]
  },
  {
   "cell_type": "code",
   "execution_count": 23,
   "metadata": {
    "collapsed": true
   },
   "outputs": [],
   "source": [
    "length = []\n",
    "pic = []\n",
    "for i in df['vote_top1000.text']:\n",
    "    l = dr.sub('',i)\n",
    "    length.append(len(l))\n",
    "    pic.append(i.count(\"<img\"))"
   ]
  },
  {
   "cell_type": "markdown",
   "metadata": {},
   "source": [
    "### 4. 输出文件"
   ]
  },
  {
   "cell_type": "code",
   "execution_count": 27,
   "metadata": {
    "collapsed": true
   },
   "outputs": [],
   "source": [
    "import csv\n",
    "with open('top1000_result.csv', 'wb') as csvfile:\n",
    "    writer = csv.writer(csvfile,dialect='excel')\n",
    "    for row in zip(df['vote_top1000.qid'],length,pic):\n",
    "        writer.writerow(row)\n"
   ]
  },
  {
   "cell_type": "code",
   "execution_count": null,
   "metadata": {
    "collapsed": true
   },
   "outputs": [],
   "source": []
  }
 ],
 "metadata": {
  "kernelspec": {
   "display_name": "Python 2",
   "language": "python",
   "name": "python2"
  },
  "language_info": {
   "codemirror_mode": {
    "name": "ipython",
    "version": 2
   },
   "file_extension": ".py",
   "mimetype": "text/x-python",
   "name": "python",
   "nbconvert_exporter": "python",
   "pygments_lexer": "ipython2",
   "version": "2.7.12"
  }
 },
 "nbformat": 4,
 "nbformat_minor": 2
}
