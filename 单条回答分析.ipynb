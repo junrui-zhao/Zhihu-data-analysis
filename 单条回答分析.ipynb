{
 "cells": [
  {
   "cell_type": "markdown",
   "metadata": {},
   "source": [
    "## 1.引入包"
   ]
  },
  {
   "cell_type": "code",
   "execution_count": 1,
   "metadata": {
    "collapsed": true
   },
   "outputs": [],
   "source": [
    "#-*- coding=utf-8 -*-\n",
    "import json\n",
    "import csv\n",
    "import datetime\n",
    "import collections\n",
    "import numpy as np\n",
    "from sklearn import linear_model\n",
    "import matplotlib.pyplot as plt"
   ]
  },
  {
   "cell_type": "markdown",
   "metadata": {},
   "source": [
    "## 2.单个问题下回答时间间隔分布"
   ]
  },
  {
   "cell_type": "code",
   "execution_count": 2,
   "metadata": {
    "collapsed": true
   },
   "outputs": [],
   "source": [
    "created_time = []\n",
    "with open('../数据/论文用/q48109458.csv', 'r') as f:\n",
    "    created_time = [json.loads(line)[\"created_time\"] for line in f.readlines()]"
   ]
  },
  {
   "cell_type": "code",
   "execution_count": 4,
   "metadata": {
    "collapsed": true
   },
   "outputs": [],
   "source": [
    "created_time = sorted(created_time)\n",
    "format_time = [datetime.datetime.fromtimestamp(time) for time in created_time]"
   ]
  },
  {
   "cell_type": "code",
   "execution_count": 5,
   "metadata": {
    "collapsed": true
   },
   "outputs": [],
   "source": [
    "second_span = []\n",
    "minute_span = []\n",
    "hour_span = []\n",
    "day_span = []\n",
    "for i in range(len(format_time)-1):\n",
    "    second_span.append((format_time[i+1] - format_time[i]).seconds)\n",
    "    minute_span.append((format_time[i+1] - format_time[i]).seconds/60)\n",
    "    hour_span.append((format_time[i+1] - format_time[i]).seconds/3600)\n",
    "    day_span.append((format_time[i+1] - format_time[i]).days)"
   ]
  },
  {
   "cell_type": "code",
   "execution_count": 7,
   "metadata": {
    "collapsed": true
   },
   "outputs": [],
   "source": [
    "feature_count_pairs = collections.Counter(minute_span).most_common()\n",
    "feature_value = zip(*feature_count_pairs)[0]\n",
    "count = zip(*feature_count_pairs)[1]\n",
    "X = feature_value\n",
    "pY = [float(n)/sum(count) for n in count]"
   ]
  },
  {
   "cell_type": "code",
   "execution_count": 27,
   "metadata": {},
   "outputs": [
    {
     "name": "stderr",
     "output_type": "stream",
     "text": [
      "/usr/local/lib/python2.7/site-packages/ipykernel_launcher.py:6: RuntimeWarning: divide by zero encountered in log10\n",
      "  \n"
     ]
    },
    {
     "name": "stdout",
     "output_type": "stream",
     "text": [
      "('Coefficients:', array([[-1.51067034]]))\n",
      "('Intercept:', array([-0.73675755]))\n",
      "Residual sum of squares: 0.01745666\n"
     ]
    },
    {
     "data": {
      "image/png": "[encoded data removed]",
      "text/plain": [
       "<matplotlib.figure.Figure at 0x106d27910>"
      ]
     },
     "metadata": {},
     "output_type": "display_data"
    }
   ],
   "source": [
    "def drawpic(X,pY):\n",
    "    _logX = []\n",
    "    _logpY = []\n",
    "\n",
    "    for x, y in zip(X,pY): #这里可以调整\n",
    "        _logX.append([float(np.log10(x))])\n",
    "        _logpY.append([float(np.log10(y))])\n",
    "    # 模型拟合\n",
    "    regr = linear_model.LinearRegression()\n",
    "    regr.fit(_logX[1:45], _logpY[1:45])\n",
    "    # 模型结果与得\n",
    "    print('Coefficients:', regr.coef_,)\n",
    "    print(\"Intercept:\",regr.intercept_)\n",
    "    # The mean square error\n",
    "    print(\"Residual sum of squares: %.8f\"\n",
    "      % np.mean((regr.predict(_logX[1:45]) - _logpY[1:45]) ** 2))  # 残差平方和\n",
    "\n",
    "    # 可视化\n",
    "    #plt.title(\"following count loglog probability distribution\")\n",
    "    plt.xlabel(\"the number of followers\")\n",
    "    plt.ylabel(\"p(k)\")\n",
    "    \n",
    "    plt.plot(X,pY,\".\",  color='blue')\n",
    "    plt.plot(X[2:45], X[2:45]**regr.coef_[0][0]*np.exp(regr.intercept_[0]), \"r-\",linewidth=2)\n",
    "    plt.xscale('log'); plt.yscale('log')\n",
    "    plt.text(50, 0.003, \"Slope=\"+ str(round(regr.coef_[0][0],2)) ,fontsize=10);\n",
    "\n",
    "    plt.show()\n",
    "drawpic(np.array(X),np.array(pY))"
   ]
  },
  {
   "cell_type": "code",
   "execution_count": null,
   "metadata": {
    "collapsed": true
   },
   "outputs": [],
   "source": []
  }
 ],
 "metadata": {
  "kernelspec": {
   "display_name": "Python 2",
   "language": "python",
   "name": "python2"
  },
  "language_info": {
   "codemirror_mode": {
    "name": "ipython",
    "version": 2
   },
   "file_extension": ".py",
   "mimetype": "text/x-python",
   "name": "python",
   "nbconvert_exporter": "python",
   "pygments_lexer": "ipython2",
   "version": "2.7.12"
  }
 },
 "nbformat": 4,
 "nbformat_minor": 2
}
