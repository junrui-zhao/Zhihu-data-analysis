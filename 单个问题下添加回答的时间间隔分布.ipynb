{
 "cells": [
  {
   "cell_type": "code",
   "execution_count": 1,
   "metadata": {
    "collapsed": true
   },
   "outputs": [],
   "source": [
    "#-*- coding=utf-8 -*-\n",
    "import json\n",
    "import csv\n",
    "import datetime\n",
    "import collections\n",
    "import matplotlib.pyplot as plt"
   ]
  },
  {
   "cell_type": "code",
   "execution_count": 2,
   "metadata": {
    "collapsed": true
   },
   "outputs": [],
   "source": [
    "created_time = []\n",
    "with open('../数据/某问题下所有答案.csv', 'r') as f:\n",
    "    created_time = [json.loads(line)[\"created_time\"] for line in f.readlines()]"
   ]
  },
  {
   "cell_type": "code",
   "execution_count": 3,
   "metadata": {
    "collapsed": true
   },
   "outputs": [],
   "source": [
    "created_time = sorted(created_time)\n",
    "format_time = [datetime.datetime.fromtimestamp(time) for time in created_time]\n",
    "second_span = []\n",
    "minute_span = []\n",
    "hour_span = []\n",
    "day_span = []\n",
    "for i in range(len(format_time)-1):\n",
    "    second_span.append((format_time[i+1] - format_time[i]).seconds)\n",
    "    minute_span.append((format_time[i+1] - format_time[i]).seconds/60)\n",
    "    hour_span.append((format_time[i+1] - format_time[i]).seconds/3600)\n",
    "    day_span.append((format_time[i+1] - format_time[i]).days)"
   ]
  },
  {
   "cell_type": "code",
   "execution_count": 4,
   "metadata": {},
   "outputs": [
    {
     "data": {
      "image/png": "[encoded data removed]",
      "text/plain": [
       "<matplotlib.figure.Figure at 0x10a069210>"
      ]
     },
     "metadata": {},
     "output_type": "display_data"
    }
   ],
   "source": [
    "feature_count_pairs = collections.Counter(minute_span).most_common()\n",
    "feature_value = zip(*feature_count_pairs)[0]\n",
    "count = zip(*feature_count_pairs)[1]\n",
    "plt.loglog(feature_value, count,'ro',color='blue')\n",
    "plt.show()"
   ]
  },
  {
   "cell_type": "code",
   "execution_count": 5,
   "metadata": {
    "collapsed": true
   },
   "outputs": [],
   "source": [
    "import numpy as np\n",
    "from sklearn import linear_model\n",
    "X = feature_value\n",
    "pY = [float(n)/sum(count) for n in count]"
   ]
  },
  {
   "cell_type": "code",
   "execution_count": 6,
   "metadata": {},
   "outputs": [
    {
     "name": "stderr",
     "output_type": "stream",
     "text": [
      "/usr/local/lib/python2.7/site-packages/ipykernel_launcher.py:11: RuntimeWarning: divide by zero encountered in log10\n",
      "  # This is added back by InteractiveShellApp.init_path()\n",
      "/usr/local/lib/python2.7/site-packages/scipy/linalg/basic.py:1018: RuntimeWarning: internal gelsd driver lwork query error, required iwork dimension not returned. This is likely the result of LAPACK bug 0038, fixed in LAPACK 3.2.2 (released July 21, 2010). Falling back to 'gelss' driver.\n",
      "  warnings.warn(mesg, RuntimeWarning)\n"
     ]
    },
    {
     "name": "stdout",
     "output_type": "stream",
     "text": [
      "('Coefficients:', array([[-1.50512245]]))\n",
      "('Intercept:', array([-0.76274845]))\n",
      "Residual sum of squares: 0.03251305\n"
     ]
    },
    {
     "data": {
      "image/png": "[encoded data removed]",
      "text/plain": [
       "<matplotlib.figure.Figure at 0x10c6945d0>"
      ]
     },
     "metadata": {},
     "output_type": "display_data"
    }
   ],
   "source": [
    "#画图+回归拟合（特征，概率）\n",
    "def drawpic(X,pY):\n",
    "    logX = []\n",
    "    logpY = []\n",
    "    _logX = []\n",
    "    _logpY = []\n",
    "#index=intersect(find(logpY>=-4.5),find(logpY));\n",
    "#xx=x(index);\n",
    "#yy=y(index);\n",
    "    for x, y in zip(X,pY):\n",
    "        logX.append([float(np.log10(x))])\n",
    "        logpY.append([float(np.log10(y))])\n",
    "\n",
    "    for x, y in zip(X[2:60],pY[2:60]): #这里可以调整\n",
    "        _logX.append([float(np.log10(x))])\n",
    "        _logpY.append([float(np.log10(y))])\n",
    "    # 模型拟合\n",
    "    regr = linear_model.LinearRegression()\n",
    "    regr.fit(_logX, _logpY)\n",
    "    # 模型结果与得分\n",
    "    print('Coefficients:', regr.coef_,)\n",
    "    print(\"Intercept:\",regr.intercept_)\n",
    "# The mean square error\n",
    "    print(\"Residual sum of squares: %.8f\"\n",
    "      % np.mean((regr.predict(_logX) - _logpY) ** 2))  # 残差平方和\n",
    "\n",
    "    # 可视化\n",
    "    #plt.title(\"following count loglog probability distribution\")\n",
    "    plt.xlabel(\"time span\")\n",
    "    plt.ylabel(\"P(t)\")\n",
    "    plt.plot(logX,logpY,\".\",  color='blue')\n",
    "    plt.plot(_logX, regr.predict(_logX), color='red',linewidth=2)\n",
    "    plt.text(2.0, -3, \"Slope=\"+ str(round(regr.coef_[0][0],2)) ,fontsize=10);\n",
    "    # plt.xticks(())\n",
    "    # plt.yticks(())\n",
    "    plt.show()\n",
    "drawpic(X,pY)"
   ]
  },
  {
   "cell_type": "code",
   "execution_count": null,
   "metadata": {
    "collapsed": true
   },
   "outputs": [],
   "source": []
  }
 ],
 "metadata": {
  "kernelspec": {
   "display_name": "Python 2",
   "language": "python",
   "name": "python2"
  },
  "language_info": {
   "codemirror_mode": {
    "name": "ipython",
    "version": 2
   },
   "file_extension": ".py",
   "mimetype": "text/x-python",
   "name": "python",
   "nbconvert_exporter": "python",
   "pygments_lexer": "ipython2",
   "version": "2.7.12"
  }
 },
 "nbformat": 4,
 "nbformat_minor": 2
}
