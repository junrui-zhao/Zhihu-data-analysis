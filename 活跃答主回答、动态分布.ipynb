{
 "cells": [
  {
   "cell_type": "markdown",
   "metadata": {},
   "source": [
    "## 1.引入包"
   ]
  },
  {
   "cell_type": "code",
   "execution_count": 30,
   "metadata": {
    "collapsed": true
   },
   "outputs": [],
   "source": [
    "#-*- coding=utf-8 -*-\n",
    "import pandas as pd\n",
    "import pylab\n",
    "import collections\n",
    "import numpy as np\n",
    "import networkx as nx\n",
    "from collections import defaultdict\n",
    "import matplotlib.pyplot as plt\n",
    "from scipy.optimize import leastsq\n",
    "from sklearn import datasets, linear_model\n",
    "import datetime"
   ]
  },
  {
   "cell_type": "markdown",
   "metadata": {},
   "source": [
    "## 2.按小时画直方图"
   ]
  },
  {
   "cell_type": "code",
   "execution_count": 38,
   "metadata": {
    "collapsed": true
   },
   "outputs": [],
   "source": [
    "def hour_hist(path,y):\n",
    "    df = pd.read_csv(path)\n",
    "    pieces = dict(list(df.groupby('actor')['created_time']))\n",
    "    hours = []\n",
    "    for k in pieces:\n",
    "        a = sorted(pieces[k])\n",
    "        b = [datetime.datetime.fromtimestamp(t) for t in a]\n",
    "        for time in b:\n",
    "            hours.append(time.hour+1)\n",
    "    draw_hist(hours,'','Hour','number',0,25,0.0,y)"
   ]
  },
  {
   "cell_type": "markdown",
   "metadata": {},
   "source": [
    "## 3.画直方图"
   ]
  },
  {
   "cell_type": "code",
   "execution_count": 20,
   "metadata": {
    "collapsed": true
   },
   "outputs": [],
   "source": [
    "# 参数依次为list,抬头,X轴标签,Y轴标签,XY轴的范围\n",
    "def draw_hist(myList,Title,Xlabel,Ylabel,Xmin,Xmax,Ymin,Ymax):\n",
    "    plt.hist(myList,100)\n",
    "    plt.xlabel(Xlabel)\n",
    "    plt.xlim(Xmin,Xmax)\n",
    "    plt.ylabel(Ylabel)\n",
    "    plt.ylim(Ymin,Ymax)\n",
    "    plt.title(Title)\n",
    "    plt.show()"
   ]
  },
  {
   "cell_type": "markdown",
   "metadata": {},
   "source": [
    "## 4.双对数坐标下画图并线性拟合"
   ]
  },
  {
   "cell_type": "code",
   "execution_count": 182,
   "metadata": {
    "collapsed": true
   },
   "outputs": [],
   "source": [
    "def drawpic(X,pY,l,r):\n",
    "    _logX = []\n",
    "    _logpY = []\n",
    "\n",
    "    print len(X)\n",
    "    for x, y in zip(X,pY): #这里可以调整\n",
    "        _logX.append([float(np.log10(x))])\n",
    "        _logpY.append([float(np.log10(y))])\n",
    "    # 模型拟合\n",
    "    regr = linear_model.LinearRegression()\n",
    "    regr.fit(_logX[l:r], _logpY[l:r])\n",
    "    # 模型结果与得\n",
    "    print('Coefficients:', regr.coef_,)\n",
    "    print(\"Intercept:\",regr.intercept_)\n",
    "# The mean square error\n",
    "    print(\"Residual sum of squares: %.8f\"\n",
    "      % np.mean((regr.predict(_logX) - _logpY) ** 2))  # 残差平方和\n",
    "\n",
    "    # 可视化\n",
    "    #plt.title(\"following count loglog probability distribution\")\n",
    "    plt.xlabel(\"time span\")\n",
    "    plt.ylabel(\"p(t)\")\n",
    "    \n",
    "    plt.plot(X,pY,\".\",  color='blue')\n",
    "    plt.plot(X[l:r], X[l:r]**regr.coef_[0][0]*np.exp(regr.intercept_[0]), \"r-\",linewidth=2)\n",
    "    #print plt.yticks()\n",
    "    #plt.yticks(plt.yticks()[0],['$10^%f$'%w for w in range(3)]) \n",
    "    #plt.yticks()[0]\n",
    "    plt.xscale('log'); plt.yscale('log')\n",
    "    plt.text(100, 0.01, \"Slope=\"+ str(round(regr.coef_[0][0],2)) ,fontsize=10);\n",
    "    # plt.xticks(())\n",
    "    # plt.yticks(())\n",
    "    plt.show()"
   ]
  },
  {
   "cell_type": "markdown",
   "metadata": {},
   "source": [
    "## 5.主程序"
   ]
  },
  {
   "cell_type": "markdown",
   "metadata": {},
   "source": [
    "### 5.1 活跃用户半年内回答情况（按小时）直方图"
   ]
  },
  {
   "cell_type": "code",
   "execution_count": 163,
   "metadata": {},
   "outputs": [
    {
     "data": {
      "image/png": "[encoded data removed]",
      "text/plain": [
       "<matplotlib.figure.Figure at 0x1208d6450>"
      ]
     },
     "metadata": {},
     "output_type": "display_data"
    }
   ],
   "source": [
    "hour_hist(r'../数据/论文用/活跃用户半年内回答情况.csv',2400)"
   ]
  },
  {
   "cell_type": "markdown",
   "metadata": {},
   "source": [
    "### 5.2 活跃用户半年内动态情况（按小时）直方图"
   ]
  },
  {
   "cell_type": "code",
   "execution_count": 165,
   "metadata": {},
   "outputs": [
    {
     "data": {
      "image/png": "[encoded data removed]",
      "text/plain": [
       "<matplotlib.figure.Figure at 0x1200c6890>"
      ]
     },
     "metadata": {},
     "output_type": "display_data"
    }
   ],
   "source": [
    "hour_hist(r'../数据/论文用/活跃用户半年内动态情况.csv',13000)"
   ]
  },
  {
   "cell_type": "markdown",
   "metadata": {},
   "source": [
    "### 5.3 双对数坐标下活跃用户半年内回答时间间隔"
   ]
  },
  {
   "cell_type": "code",
   "execution_count": 183,
   "metadata": {},
   "outputs": [
    {
     "name": "stdout",
     "output_type": "stream",
     "text": [
      "1439\n",
      "('Coefficients:', array([[-0.68444332]]))\n",
      "('Intercept:', array([-1.53899079]))\n",
      "Residual sum of squares: 0.04418398\n"
     ]
    },
    {
     "data": {
      "image/png": "[encoded data removed]",
      "text/plain": [
       "<matplotlib.figure.Figure at 0x113929310>"
      ]
     },
     "metadata": {},
     "output_type": "display_data"
    }
   ],
   "source": [
    "df = pd.read_csv(r'../数据/论文用/活跃用户半年内回答情况.csv')\n",
    "pieces = dict(list(df.groupby('actor')['created_time']))\n",
    "hours = []\n",
    "second_span = []\n",
    "minute_span = []\n",
    "hour_span = []\n",
    "day_span = []\n",
    "for k in pieces:\n",
    "    a = sorted(pieces[k])\n",
    "    format_time = [datetime.datetime.fromtimestamp(t) for t in a]\n",
    "    for i in range(len(format_time)-1):\n",
    "        second_span.append((format_time[i+1] - format_time[i]).seconds)\n",
    "        minute_span.append((format_time[i+1] - format_time[i]).seconds/60)\n",
    "        hour_span.append((format_time[i+1] - format_time[i]).seconds/3600)\n",
    "        day_span.append((format_time[i+1] - format_time[i]).days)\n",
    "\n",
    "feature_count_pairs = collections.Counter(minute_span).most_common()\n",
    "feature_value = zip(*feature_count_pairs)[0]\n",
    "count = zip(*feature_count_pairs)[1]\n",
    "from operator import itemgetter, attrgetter\n",
    "sorted_pairs = sorted(feature_count_pairs, key=itemgetter(0))\n",
    "X  = zip(*sorted_pairs)[0]\n",
    "# Normalize the data to a proper PDF\n",
    "Y = zip(*sorted_pairs)[1]\n",
    "pY = [y/float(sum(Y)) for y in zip(*sorted_pairs)[1]]\n",
    "\n",
    "drawpic(np.array(X[1:]),np.array(pY[1:]),20,900)"
   ]
  },
  {
   "cell_type": "markdown",
   "metadata": {},
   "source": [
    "### 5.4 活跃用户半年内回答数的人数分布"
   ]
  },
  {
   "cell_type": "code",
   "execution_count": 185,
   "metadata": {},
   "outputs": [],
   "source": [
    "df = pd.read_csv(r'../数据/论文用/活跃用户答案汇总.csv')"
   ]
  },
  {
   "cell_type": "code",
   "execution_count": 186,
   "metadata": {},
   "outputs": [
    {
     "data": {
      "image/png": "[encoded data removed]",
      "text/plain": [
       "<matplotlib.figure.Figure at 0x118e6b9d0>"
      ]
     },
     "metadata": {},
     "output_type": "display_data"
    }
   ],
   "source": [
    "feature_count_pairs = collections.Counter(df['count(*)']).most_common()\n",
    "feature_value = zip(*feature_count_pairs)[0]\n",
    "count = [c/32827.0*100 for c in zip(*feature_count_pairs)[1]]\n",
    "answes = list(df['count(*)'])\n",
    "plt.bar(feature_value,count,10,color=\"blue\")  \n",
    "plt.xlabel(\"the number of answers\")  \n",
    "plt.ylabel(\"the percent of people %\")  \n",
    "#plt.title(\"bar chart\")  \n",
    "plt.show()"
   ]
  },
  {
   "cell_type": "code",
   "execution_count": 187,
   "metadata": {},
   "outputs": [
    {
     "data": {
      "text/plain": [
       "[(1.0, 0.36555274621500594),\n",
       " (2.0, 0.24979437658025405),\n",
       " (3.0, 0.18277637310750297),\n",
       " (4.0, 0.15840619002650258),\n",
       " (6.0, 0.13098973406037712),\n",
       " (7.0, 0.12489718829012703),\n",
       " (5.0, 0.09748073232400159),\n",
       " (8.0, 0.09138818655375149),\n",
       " (9.0, 0.07920309501325129),\n",
       " (10.0, 0.07615682212812624),\n",
       " (11.0, 0.07615682212812624),\n",
       " (15.0, 0.07615682212812624),\n",
       " (12.0, 0.0670180034727511),\n",
       " (14.0, 0.06092545770250098),\n",
       " (13.0, 0.05787918481737594),\n",
       " (19.0, 0.05787918481737594),\n",
       " (29.0, 0.039601547506625645),\n",
       " (16.0, 0.03350900173637555),\n",
       " (20.0, 0.03350900173637555),\n",
       " (21.0, 0.03350900173637555),\n",
       " (26.0, 0.03350900173637555),\n",
       " (31.0, 0.03350900173637555),\n",
       " (17.0, 0.03046272885125049),\n",
       " (18.0, 0.027416455966125443),\n",
       " (24.0, 0.027416455966125443),\n",
       " (25.0, 0.024370183081000397),\n",
       " (27.0, 0.024370183081000397),\n",
       " (33.0, 0.024370183081000397),\n",
       " (38.0, 0.024370183081000397),\n",
       " (22.0, 0.0182776373107503),\n",
       " (36.0, 0.0182776373107503),\n",
       " (53.0, 0.0182776373107503),\n",
       " (28.0, 0.015231364425625246),\n",
       " (30.0, 0.015231364425625246),\n",
       " (34.0, 0.015231364425625246),\n",
       " (37.0, 0.015231364425625246),\n",
       " (23.0, 0.012185091540500199),\n",
       " (43.0, 0.012185091540500199),\n",
       " (46.0, 0.012185091540500199),\n",
       " (49.0, 0.012185091540500199),\n",
       " (54.0, 0.012185091540500199),\n",
       " (55.0, 0.012185091540500199),\n",
       " (60.0, 0.012185091540500199),\n",
       " (32.0, 0.00913881865537515),\n",
       " (35.0, 0.00913881865537515),\n",
       " (40.0, 0.00913881865537515),\n",
       " (52.0, 0.00913881865537515),\n",
       " (62.0, 0.00913881865537515),\n",
       " (64.0, 0.00913881865537515),\n",
       " (68.0, 0.00913881865537515),\n",
       " (69.0, 0.00913881865537515),\n",
       " (70.0, 0.00913881865537515),\n",
       " (74.0, 0.00913881865537515),\n",
       " (86.0, 0.00913881865537515),\n",
       " (111.0, 0.00913881865537515),\n",
       " (42.0, 0.006092545770250099),\n",
       " (44.0, 0.006092545770250099),\n",
       " (45.0, 0.006092545770250099),\n",
       " (47.0, 0.006092545770250099),\n",
       " (48.0, 0.006092545770250099),\n",
       " (50.0, 0.006092545770250099),\n",
       " (51.0, 0.006092545770250099),\n",
       " (58.0, 0.006092545770250099),\n",
       " (61.0, 0.006092545770250099),\n",
       " (65.0, 0.006092545770250099),\n",
       " (66.0, 0.006092545770250099),\n",
       " (71.0, 0.006092545770250099),\n",
       " (73.0, 0.006092545770250099),\n",
       " (75.0, 0.006092545770250099),\n",
       " (77.0, 0.006092545770250099),\n",
       " (79.0, 0.006092545770250099),\n",
       " (81.0, 0.006092545770250099),\n",
       " (90.0, 0.006092545770250099),\n",
       " (93.0, 0.006092545770250099),\n",
       " (103.0, 0.006092545770250099),\n",
       " (108.0, 0.006092545770250099),\n",
       " (110.0, 0.006092545770250099),\n",
       " (119.0, 0.006092545770250099),\n",
       " (162.0, 0.006092545770250099),\n",
       " (167.0, 0.006092545770250099),\n",
       " (39.0, 0.0030462728851250497),\n",
       " (41.0, 0.0030462728851250497),\n",
       " (56.0, 0.0030462728851250497),\n",
       " (59.0, 0.0030462728851250497),\n",
       " (63.0, 0.0030462728851250497),\n",
       " (72.0, 0.0030462728851250497),\n",
       " (76.0, 0.0030462728851250497),\n",
       " (78.0, 0.0030462728851250497),\n",
       " (82.0, 0.0030462728851250497),\n",
       " (83.0, 0.0030462728851250497),\n",
       " (84.0, 0.0030462728851250497),\n",
       " (87.0, 0.0030462728851250497),\n",
       " (88.0, 0.0030462728851250497),\n",
       " (91.0, 0.0030462728851250497),\n",
       " (92.0, 0.0030462728851250497),\n",
       " (95.0, 0.0030462728851250497),\n",
       " (99.0, 0.0030462728851250497),\n",
       " (101.0, 0.0030462728851250497),\n",
       " (104.0, 0.0030462728851250497),\n",
       " (115.0, 0.0030462728851250497),\n",
       " (117.0, 0.0030462728851250497),\n",
       " (30.96534149, 0.0030462728851250497),\n",
       " (131.0, 0.0030462728851250497),\n",
       " (135.0, 0.0030462728851250497),\n",
       " (137.0, 0.0030462728851250497),\n",
       " (138.0, 0.0030462728851250497),\n",
       " (144.0, 0.0030462728851250497),\n",
       " (145.0, 0.0030462728851250497),\n",
       " (146.0, 0.0030462728851250497),\n",
       " (147.0, 0.0030462728851250497),\n",
       " (153.0, 0.0030462728851250497),\n",
       " (157.0, 0.0030462728851250497),\n",
       " (158.0, 0.0030462728851250497),\n",
       " (165.0, 0.0030462728851250497),\n",
       " (169.0, 0.0030462728851250497),\n",
       " (172.0, 0.0030462728851250497),\n",
       " (177.0, 0.0030462728851250497),\n",
       " (181.0, 0.0030462728851250497),\n",
       " (189.0, 0.0030462728851250497),\n",
       " (190.0, 0.0030462728851250497),\n",
       " (216.0, 0.0030462728851250497),\n",
       " (219.0, 0.0030462728851250497),\n",
       " (222.0, 0.0030462728851250497),\n",
       " (238.0, 0.0030462728851250497),\n",
       " (240.0, 0.0030462728851250497),\n",
       " (754.0, 0.0030462728851250497),\n",
       " (243.0, 0.0030462728851250497),\n",
       " (252.0, 0.0030462728851250497),\n",
       " (260.0, 0.0030462728851250497),\n",
       " (261.0, 0.0030462728851250497),\n",
       " (268.0, 0.0030462728851250497),\n",
       " (797.0, 0.0030462728851250497),\n",
       " (295.0, 0.0030462728851250497),\n",
       " (297.0, 0.0030462728851250497),\n",
       " (307.0, 0.0030462728851250497),\n",
       " (314.0, 0.0030462728851250497),\n",
       " (2917.0, 0.0030462728851250497),\n",
       " (376.0, 0.0030462728851250497),\n",
       " (402.0, 0.0030462728851250497),\n",
       " (404.0, 0.0030462728851250497),\n",
       " (583.0, 0.0030462728851250497)]"
      ]
     },
     "execution_count": 187,
     "metadata": {},
     "output_type": "execute_result"
    }
   ],
   "source": [
    "zip(feature_value,count)"
   ]
  },
  {
   "cell_type": "code",
   "execution_count": null,
   "metadata": {
    "collapsed": true
   },
   "outputs": [],
   "source": []
  }
 ],
 "metadata": {
  "kernelspec": {
   "display_name": "Python 2",
   "language": "python",
   "name": "python2"
  },
  "language_info": {
   "codemirror_mode": {
    "name": "ipython",
    "version": 2
   },
   "file_extension": ".py",
   "mimetype": "text/x-python",
   "name": "python",
   "nbconvert_exporter": "python",
   "pygments_lexer": "ipython2",
   "version": "2.7.12"
  }
 },
 "nbformat": 4,
 "nbformat_minor": 2
}
